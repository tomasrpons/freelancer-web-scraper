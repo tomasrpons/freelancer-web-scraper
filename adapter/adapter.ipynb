{
 "cells": [
  {
   "cell_type": "code",
   "execution_count": 83,
   "metadata": {},
   "outputs": [],
   "source": [
    "import pandas as pd\n",
    "import numpy as np\n",
    "import re"
   ]
  },
  {
   "cell_type": "code",
   "execution_count": 224,
   "metadata": {
    "scrolled": true
   },
   "outputs": [],
   "source": [
    "data = pd.read_csv('../scraper/data/zandparts.csv')"
   ]
  },
  {
   "cell_type": "code",
   "execution_count": 228,
   "metadata": {},
   "outputs": [
    {
     "data": {
      "text/html": [
       "<style>.container { width:80% !important; }</style>"
      ],
      "text/plain": [
       "<IPython.core.display.HTML object>"
      ]
     },
     "metadata": {},
     "output_type": "display_data"
    }
   ],
   "source": [
    "from IPython.core.display import display, HTML\n",
    "display(HTML(\"<style>.container { width:80% !important; }</style>\"))"
   ]
  },
  {
   "cell_type": "code",
   "execution_count": 229,
   "metadata": {},
   "outputs": [],
   "source": [
    "pd.set_option('display.max_colwidth', None)"
   ]
  },
  {
   "cell_type": "code",
   "execution_count": 230,
   "metadata": {},
   "outputs": [],
   "source": [
    "\n",
    "data['Brand'] = data.apply(lambda row : \" \".join(row['Brand'].split()).split(',')[-1].strip(),axis=1)\n",
    "data['Category'] = data.apply(lambda row : \" \".join(row['Category'].split()).split(',')[-1].strip(),axis=1)\n",
    "data['Quality'] = data.apply(lambda row : \" \".join(row['Quality'].split()).split(',')[-1].strip(),axis=1)\n",
    "data['PartNo'] = data.apply(lambda row : \" \".join(row['PartNo'].split()).split(',')[-1].strip(),axis=1)\n",
    "data['Price'] = data.apply(lambda row : float(\" \".join(str(row['Price']).split()).split(',')[-1].strip().split('EUR')[0].replace(' ','')),axis=1)\n",
    "data['Description'] = data.apply(lambda row : \" \".join(row['Description'].split()).strip(),axis=1)\n",
    "data['Description'] = np.where(data['description_alternative'].notna(),data['description_alternative'],data['Description'])\n",
    "data.drop('description_alternative',axis=1,inplace=True)\n",
    "data['ImageLinks'] = 'https://www.zandparts.com' + data['ImageLinks']\n",
    "data = data[data['Price'].notna()].reset_index(drop=True)\n",
    "data = data[data['Name'].notna()].reset_index(drop=True)"
   ]
  },
  {
   "cell_type": "code",
   "execution_count": 8,
   "metadata": {
    "scrolled": true
   },
   "outputs": [
    {
     "name": "stdout",
     "output_type": "stream",
     "text": [
      "<class 'pandas.core.frame.DataFrame'>\n",
      "RangeIndex: 1114 entries, 0 to 1113\n",
      "Data columns (total 14 columns):\n",
      " #   Column        Non-Null Count  Dtype  \n",
      "---  ------        --------------  -----  \n",
      " 0   Brand         1114 non-null   object \n",
      " 1   Type          1114 non-null   object \n",
      " 2   Family        1114 non-null   object \n",
      " 3   Model         1114 non-null   object \n",
      " 4   Category      1114 non-null   object \n",
      " 5   Name          1114 non-null   object \n",
      " 6   PartNo        1114 non-null   object \n",
      " 7   Quality       1114 non-null   object \n",
      " 8   Price         1114 non-null   float64\n",
      " 9   Description   1114 non-null   object \n",
      " 10  FitsTo        1114 non-null   object \n",
      " 11  Alternative   15 non-null     object \n",
      " 12  ImageLinks    1112 non-null   object \n",
      " 13  OriginalLink  1114 non-null   object \n",
      "dtypes: float64(1), object(13)\n",
      "memory usage: 122.0+ KB\n"
     ]
    }
   ],
   "source": [
    "data.info()"
   ]
  },
  {
   "cell_type": "code",
   "execution_count": 11,
   "metadata": {},
   "outputs": [],
   "source": [
    "data.to_csv('../result.csv')"
   ]
  }
 ],
 "metadata": {
  "kernelspec": {
   "display_name": "Python 3",
   "language": "python",
   "name": "python3"
  },
  "language_info": {
   "codemirror_mode": {
    "name": "ipython",
    "version": 3
   },
   "file_extension": ".py",
   "mimetype": "text/x-python",
   "name": "python",
   "nbconvert_exporter": "python",
   "pygments_lexer": "ipython3",
   "version": "3.8.3"
  }
 },
 "nbformat": 4,
 "nbformat_minor": 5
}
